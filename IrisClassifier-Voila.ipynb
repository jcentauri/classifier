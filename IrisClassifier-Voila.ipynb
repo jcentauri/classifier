{
 "cells": [
  {
   "cell_type": "code",
   "execution_count": 197,
   "id": "9bd1440c",
   "metadata": {},
   "outputs": [],
   "source": [
    "import pandas as pd\n",
    "from sklearn.model_selection import train_test_split\n",
    "from sklearn.neighbors import KNeighborsClassifier"
   ]
  },
  {
   "cell_type": "code",
   "execution_count": 198,
   "id": "0f74c763",
   "metadata": {},
   "outputs": [],
   "source": [
    "iris = pd.read_csv('./anaconda/iris.csv')\n",
    "#print(iris)"
   ]
  },
  {
   "cell_type": "code",
   "execution_count": 199,
   "id": "b108f37e",
   "metadata": {},
   "outputs": [],
   "source": [
    "X = iris.drop(columns=['variety'])\n",
    "y = iris['variety']\n",
    "X_train, X_test, y_train, y_test = train_test_split(X, y, test_size=0.2 , random_state=4)"
   ]
  },
  {
   "cell_type": "code",
   "execution_count": 203,
   "id": "5b5ba615",
   "metadata": {},
   "outputs": [],
   "source": [
    "%%capture \n",
    "knn = KNeighborsClassifier(n_neighbors=10)\n",
    "knn.fit(X,y)"
   ]
  },
  {
   "cell_type": "code",
   "execution_count": 201,
   "id": "ad326ac6",
   "metadata": {},
   "outputs": [],
   "source": [
    "import warnings\n",
    "warnings.filterwarnings('ignore')"
   ]
  },
  {
   "cell_type": "code",
   "execution_count": 221,
   "id": "b34e5d02",
   "metadata": {
    "scrolled": true
   },
   "outputs": [
    {
     "data": {
      "application/vnd.jupyter.widget-view+json": {
       "model_id": "a900d2344a5742d59e09061206884d4d",
       "version_major": 2,
       "version_minor": 0
      },
      "text/plain": [
       "Label(value='IRIS CLASSIFIER')"
      ]
     },
     "metadata": {},
     "output_type": "display_data"
    },
    {
     "data": {
      "application/vnd.jupyter.widget-view+json": {
       "model_id": "7c37df96b3314746ae4fa292964bf275",
       "version_major": 2,
       "version_minor": 0
      },
      "text/plain": [
       "Label(value='sepal_length')"
      ]
     },
     "metadata": {},
     "output_type": "display_data"
    },
    {
     "data": {
      "application/vnd.jupyter.widget-view+json": {
       "model_id": "9aeece49c2164acf8515c4e9ca634e22",
       "version_major": 2,
       "version_minor": 0
      },
      "text/plain": [
       "Text(value='')"
      ]
     },
     "metadata": {},
     "output_type": "display_data"
    },
    {
     "data": {
      "application/vnd.jupyter.widget-view+json": {
       "model_id": "d2e1d5af95b34e87b6ae58dbd851371f",
       "version_major": 2,
       "version_minor": 0
      },
      "text/plain": [
       "Label(value='sepal_width')"
      ]
     },
     "metadata": {},
     "output_type": "display_data"
    },
    {
     "data": {
      "application/vnd.jupyter.widget-view+json": {
       "model_id": "345467c07e2c45428cd38a211ac6e94c",
       "version_major": 2,
       "version_minor": 0
      },
      "text/plain": [
       "Text(value='')"
      ]
     },
     "metadata": {},
     "output_type": "display_data"
    },
    {
     "data": {
      "application/vnd.jupyter.widget-view+json": {
       "model_id": "de4010bdf8574eab80f38c510e41bb26",
       "version_major": 2,
       "version_minor": 0
      },
      "text/plain": [
       "Label(value='petal_length')"
      ]
     },
     "metadata": {},
     "output_type": "display_data"
    },
    {
     "data": {
      "application/vnd.jupyter.widget-view+json": {
       "model_id": "3b2b2aed500c49709560ead83247c430",
       "version_major": 2,
       "version_minor": 0
      },
      "text/plain": [
       "Text(value='')"
      ]
     },
     "metadata": {},
     "output_type": "display_data"
    },
    {
     "data": {
      "application/vnd.jupyter.widget-view+json": {
       "model_id": "770e0e6ea7474475bac704a26fd233aa",
       "version_major": 2,
       "version_minor": 0
      },
      "text/plain": [
       "Label(value='petal_width')"
      ]
     },
     "metadata": {},
     "output_type": "display_data"
    },
    {
     "data": {
      "application/vnd.jupyter.widget-view+json": {
       "model_id": "119f4ab20b19471b80a8c876b67ef2fd",
       "version_major": 2,
       "version_minor": 0
      },
      "text/plain": [
       "Text(value='')"
      ]
     },
     "metadata": {},
     "output_type": "display_data"
    },
    {
     "data": {
      "application/vnd.jupyter.widget-view+json": {
       "model_id": "787321b1995e40ed8eb3087f7e193993",
       "version_major": 2,
       "version_minor": 0
      },
      "text/plain": [
       "Button(description='classify', style=ButtonStyle())"
      ]
     },
     "metadata": {},
     "output_type": "display_data"
    },
    {
     "data": {
      "application/vnd.jupyter.widget-view+json": {
       "model_id": "3bf5fc2416824061b74499f1598245e2",
       "version_major": 2,
       "version_minor": 0
      },
      "text/plain": [
       "Label(value='')"
      ]
     },
     "metadata": {},
     "output_type": "display_data"
    }
   ],
   "source": [
    "from ipywidgets import widgets\n",
    "\n",
    "lbl0=widgets.Label(\"IRIS CLASSIFIER\")\n",
    "display(lbl0)\n",
    "\n",
    "lbl1=widgets.Label(\"sepal_length\")\n",
    "display(lbl1)\n",
    "text1=widgets.Text()\n",
    "display(text1)\n",
    "\n",
    "lbl2=widgets.Label(\"sepal_width\")\n",
    "display(lbl2)\n",
    "text2=widgets.Text()\n",
    "display(text2)\n",
    "\n",
    "\n",
    "lbl2=widgets.Label(\"petal_length\")\n",
    "display(lbl2)\n",
    "text3=widgets.Text()\n",
    "display(text3)\n",
    "\n",
    "\n",
    "lbl2=widgets.Label(\"petal_width\")\n",
    "display(lbl2)\n",
    "text4=widgets.Text()\n",
    "display(text4)\n",
    "\n",
    "\n",
    "\n",
    "btn=widgets.Button(description=\"classify\")\n",
    "display(btn)\n",
    "\n",
    "lbl3=widgets.Label()\n",
    "display(lbl3)\n",
    "\n",
    "def add(x):\n",
    "    a=text1.value\n",
    "    b=text2.value\n",
    "    c=text3.value\n",
    "    d=text4.value\n",
    "    result=knn.predict([[a, b, c, d]])[0]\n",
    "        \n",
    "    lbl3.value='Result : ' + str(result)\n",
    " \n",
    "      \n",
    "btn.on_click(add)\n"
   ]
  }
 ],
 "metadata": {
  "kernelspec": {
   "display_name": "Python 3",
   "language": "python",
   "name": "python3"
  },
  "language_info": {
   "codemirror_mode": {
    "name": "ipython",
    "version": 3
   },
   "file_extension": ".py",
   "mimetype": "text/x-python",
   "name": "python",
   "nbconvert_exporter": "python",
   "pygments_lexer": "ipython3",
   "version": "3.8.8"
  }
 },
 "nbformat": 4,
 "nbformat_minor": 5
}
